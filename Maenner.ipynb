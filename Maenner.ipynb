{
  "cells": [
    {
      "cell_type": "markdown",
      "metadata": {
        "colab_type": "text",
        "id": "view-in-github"
      },
      "source": [
        "<a href=\"https://colab.research.google.com/github/trammmd/MaennerML/blob/main/Maenner.ipynb\" target=\"_parent\"><img src=\"https://colab.research.google.com/assets/colab-badge.svg\" alt=\"Open In Colab\"/></a>"
      ]
    },
    {
      "cell_type": "markdown",
      "id": "t-0l79yWgbMv",
      "metadata": {
        "id": "t-0l79yWgbMv"
      },
      "source": [
        "#Data Loading\n"
      ]
    },
    {
      "cell_type": "code",
      "execution_count": 67,
      "id": "e9d632c4-b26f-4a8c-852c-b02ebc47fefd",
      "metadata": {
        "id": "e9d632c4-b26f-4a8c-852c-b02ebc47fefd"
      },
      "outputs": [],
      "source": [
        "#importing necessery libraries for future analysis of the dataset\n",
        "import pandas as pd\n",
        "from tensorflow.keras import models, layers, utils, backend as K\n",
        "import matplotlib.pyplot as plt\n",
        "import shap\n",
        "import matplotlib as plt\n",
        "import seaborn as sns\n",
        "import folium\n"
      ]
    },
    {
      "cell_type": "code",
      "execution_count": 68,
      "id": "57ed8337-2261-4bc6-9f7a-9dbc293ff4fd",
      "metadata": {
        "id": "57ed8337-2261-4bc6-9f7a-9dbc293ff4fd"
      },
      "outputs": [],
      "source": [
        "#Read data\n",
        "ubahn=pd.read_json(\"/data/ubahn.json\")\n",
        "fahrrad = pd.read_csv(\"/data/fahrrad.json\")"
      ]
    },
    {
      "cell_type": "markdown",
      "id": "ta3JJydialB-",
      "metadata": {
        "id": "ta3JJydialB-"
      },
      "source": [
        "#Feature Engineering\n"
      ]
    },
    {
      "cell_type": "markdown",
      "id": "N6Fls4b8k4ul",
      "metadata": {
        "id": "N6Fls4b8k4ul"
      },
      "source": [
        "**Correlation Matrix**\n",
        "\n",
        "Its necessary to remove correlated variables to improve your model. One can find correlations using pandas “.corr()” function and can visualize the correlation matrix using plotly express.\n",
        "\n",
        "\n",
        "Lighter shades represents positive correlation, when one variable increases, the other variable tends to increase\n",
        "\n",
        "Darker shades represents negative correlation, when one variable increases, the other variable tends to decrease"
      ]
    },
    {
      "cell_type": "code",
      "execution_count": 78,
      "id": "n4cgFnTqkNCg",
      "metadata": {
        "colab": {
          "base_uri": "https://localhost:8080/",
          "height": 630
        },
        "id": "n4cgFnTqkNCg",
        "outputId": "c1f3cbeb-3344-47d5-ab4a-f6934eaffc86"
      },
      "outputs": [
        {
          "name": "stderr",
          "output_type": "stream",
          "text": [
            "<ipython-input-78-2bb7a848ff27>:1: FutureWarning:\n",
            "\n",
            "The default value of numeric_only in DataFrame.corr is deprecated. In a future version, it will default to False. Select only valid columns or specify the value of numeric_only to silence this warning.\n",
            "\n"
          ]
        },
        {
          "data": {
            "text/html": [
              "<html>\n",
              "<head><meta charset=\"utf-8\" /></head>\n",
              "<body>\n",
              "    <div>            <script src=\"https://cdnjs.cloudflare.com/ajax/libs/mathjax/2.7.5/MathJax.js?config=TeX-AMS-MML_SVG\"></script><script type=\"text/javascript\">if (window.MathJax && window.MathJax.Hub && window.MathJax.Hub.Config) {window.MathJax.Hub.Config({SVG: {font: \"STIX-Web\"}});}</script>                <script type=\"text/javascript\">window.PlotlyConfig = {MathJaxConfig: 'local'};</script>\n",
              "        <script src=\"https://cdn.plot.ly/plotly-2.18.2.min.js\"></script>                <div id=\"4ce6418b-5a6e-40cb-92c6-c906d490009c\" class=\"plotly-graph-div\" style=\"height:525px; width:100%;\"></div>            <script type=\"text/javascript\">                                    window.PLOTLYENV=window.PLOTLYENV || {};                                    if (document.getElementById(\"4ce6418b-5a6e-40cb-92c6-c906d490009c\")) {                    Plotly.newPlot(                        \"4ce6418b-5a6e-40cb-92c6-c906d490009c\",                        [{\"coloraxis\":\"coloraxis\",\"name\":\"0\",\"x\":[\"time\",\"seconds_elapsed\",\"bearingAccuracy\",\"speedAccuracy\",\"verticalAccuracy\",\"horizontalAccuracy\",\"speed\",\"bearing\",\"altitude\",\"longitude\",\"latitude\",\"altitudeAboveMeanSeaLevel\"],\"y\":[\"time\",\"seconds_elapsed\",\"bearingAccuracy\",\"speedAccuracy\",\"verticalAccuracy\",\"horizontalAccuracy\",\"speed\",\"bearing\",\"altitude\",\"longitude\",\"latitude\",\"altitudeAboveMeanSeaLevel\"],\"z\":[[1.0,0.25717011480734076,0.14080710489233972,0.5217992455476587,-0.6898021528297255,-0.3876538564116672,0.28216242215085835,0.3336163373042175,0.26756579374048706,0.45208199570463914,-0.488513975164813,0.4227527370277729],[0.25717011480734076,1.0,0.016393883610732036,0.3168178622000281,-0.25161024171765023,-0.18871807514532382,0.3034350739882682,0.08382416854314066,0.27022774736103755,0.6804593829781427,-0.5715310037306955,0.06882747740032015],[0.14080710489233972,0.016393883610732036,1.0,0.09270911848995848,-0.1322009741949935,-0.15509717602328726,-0.23996704508665792,0.21426389826008416,0.1569147428196021,0.2001329848127405,-0.24348681779477527,0.042379695820331645],[0.5217992455476587,0.3168178622000281,0.09270911848995848,1.0,-0.44192164120198973,-0.45597662537803896,0.545196207261999,0.2911446369425468,0.6515551499937013,0.6906217228325279,-0.7488135815921249,0.5418868367219812],[-0.6898021528297255,-0.25161024171765023,-0.1322009741949935,-0.44192164120198973,1.0,0.5414881188948831,-0.26506256295292796,-0.29166705775303997,-0.17368521042313514,-0.46087715951281827,0.4844986233227828,-0.33307762523400675],[-0.3876538564116672,-0.18871807514532382,-0.15509717602328726,-0.45597662537803896,0.5414881188948831,1.0,-0.2883401347746636,-0.28724005500535943,-0.285250351370821,-0.5529200521272877,0.5569863570957971,-0.26105593488906065],[0.28216242215085835,0.3034350739882682,-0.23996704508665792,0.545196207261999,-0.26506256295292796,-0.2883401347746636,1.0,0.37441778087227506,0.3751352948668477,0.49662638927566144,-0.49040081867201174,0.24113536699383673],[0.3336163373042175,0.08382416854314066,0.21426389826008416,0.2911446369425468,-0.29166705775303997,-0.28724005500535943,0.37441778087227506,1.0,0.059078346727530436,0.11948571397416234,-0.1546726526775892,0.21603911874614726],[0.26756579374048706,0.27022774736103755,0.1569147428196021,0.6515551499937013,-0.17368521042313514,-0.285250351370821,0.3751352948668477,0.059078346727530436,1.0,0.6258148569852948,-0.642644078372753,0.9996153168802032],[0.45208199570463914,0.6804593829781427,0.2001329848127405,0.6906217228325279,-0.46087715951281827,-0.5529200521272877,0.49662638927566144,0.11948571397416234,0.6258148569852948,1.0,-0.9549558135934901,0.4034109117779781],[-0.488513975164813,-0.5715310037306955,-0.24348681779477527,-0.7488135815921249,0.4844986233227828,0.5569863570957971,-0.49040081867201174,-0.1546726526775892,-0.642644078372753,-0.9549558135934901,1.0,-0.3977069263437079],[0.4227527370277729,0.06882747740032015,0.042379695820331645,0.5418868367219812,-0.33307762523400675,-0.26105593488906065,0.24113536699383673,0.21603911874614726,0.9996153168802032,0.4034109117779781,-0.3977069263437079,1.0]],\"type\":\"heatmap\",\"xaxis\":\"x\",\"yaxis\":\"y\",\"hovertemplate\":\"x: %{x}<br>y: %{y}<br>color: %{z}<extra></extra>\"}],                        {\"template\":{\"data\":{\"histogram2dcontour\":[{\"type\":\"histogram2dcontour\",\"colorbar\":{\"outlinewidth\":0,\"ticks\":\"\"},\"colorscale\":[[0.0,\"#0d0887\"],[0.1111111111111111,\"#46039f\"],[0.2222222222222222,\"#7201a8\"],[0.3333333333333333,\"#9c179e\"],[0.4444444444444444,\"#bd3786\"],[0.5555555555555556,\"#d8576b\"],[0.6666666666666666,\"#ed7953\"],[0.7777777777777778,\"#fb9f3a\"],[0.8888888888888888,\"#fdca26\"],[1.0,\"#f0f921\"]]}],\"choropleth\":[{\"type\":\"choropleth\",\"colorbar\":{\"outlinewidth\":0,\"ticks\":\"\"}}],\"histogram2d\":[{\"type\":\"histogram2d\",\"colorbar\":{\"outlinewidth\":0,\"ticks\":\"\"},\"colorscale\":[[0.0,\"#0d0887\"],[0.1111111111111111,\"#46039f\"],[0.2222222222222222,\"#7201a8\"],[0.3333333333333333,\"#9c179e\"],[0.4444444444444444,\"#bd3786\"],[0.5555555555555556,\"#d8576b\"],[0.6666666666666666,\"#ed7953\"],[0.7777777777777778,\"#fb9f3a\"],[0.8888888888888888,\"#fdca26\"],[1.0,\"#f0f921\"]]}],\"heatmap\":[{\"type\":\"heatmap\",\"colorbar\":{\"outlinewidth\":0,\"ticks\":\"\"},\"colorscale\":[[0.0,\"#0d0887\"],[0.1111111111111111,\"#46039f\"],[0.2222222222222222,\"#7201a8\"],[0.3333333333333333,\"#9c179e\"],[0.4444444444444444,\"#bd3786\"],[0.5555555555555556,\"#d8576b\"],[0.6666666666666666,\"#ed7953\"],[0.7777777777777778,\"#fb9f3a\"],[0.8888888888888888,\"#fdca26\"],[1.0,\"#f0f921\"]]}],\"heatmapgl\":[{\"type\":\"heatmapgl\",\"colorbar\":{\"outlinewidth\":0,\"ticks\":\"\"},\"colorscale\":[[0.0,\"#0d0887\"],[0.1111111111111111,\"#46039f\"],[0.2222222222222222,\"#7201a8\"],[0.3333333333333333,\"#9c179e\"],[0.4444444444444444,\"#bd3786\"],[0.5555555555555556,\"#d8576b\"],[0.6666666666666666,\"#ed7953\"],[0.7777777777777778,\"#fb9f3a\"],[0.8888888888888888,\"#fdca26\"],[1.0,\"#f0f921\"]]}],\"contourcarpet\":[{\"type\":\"contourcarpet\",\"colorbar\":{\"outlinewidth\":0,\"ticks\":\"\"}}],\"contour\":[{\"type\":\"contour\",\"colorbar\":{\"outlinewidth\":0,\"ticks\":\"\"},\"colorscale\":[[0.0,\"#0d0887\"],[0.1111111111111111,\"#46039f\"],[0.2222222222222222,\"#7201a8\"],[0.3333333333333333,\"#9c179e\"],[0.4444444444444444,\"#bd3786\"],[0.5555555555555556,\"#d8576b\"],[0.6666666666666666,\"#ed7953\"],[0.7777777777777778,\"#fb9f3a\"],[0.8888888888888888,\"#fdca26\"],[1.0,\"#f0f921\"]]}],\"surface\":[{\"type\":\"surface\",\"colorbar\":{\"outlinewidth\":0,\"ticks\":\"\"},\"colorscale\":[[0.0,\"#0d0887\"],[0.1111111111111111,\"#46039f\"],[0.2222222222222222,\"#7201a8\"],[0.3333333333333333,\"#9c179e\"],[0.4444444444444444,\"#bd3786\"],[0.5555555555555556,\"#d8576b\"],[0.6666666666666666,\"#ed7953\"],[0.7777777777777778,\"#fb9f3a\"],[0.8888888888888888,\"#fdca26\"],[1.0,\"#f0f921\"]]}],\"mesh3d\":[{\"type\":\"mesh3d\",\"colorbar\":{\"outlinewidth\":0,\"ticks\":\"\"}}],\"scatter\":[{\"fillpattern\":{\"fillmode\":\"overlay\",\"size\":10,\"solidity\":0.2},\"type\":\"scatter\"}],\"parcoords\":[{\"type\":\"parcoords\",\"line\":{\"colorbar\":{\"outlinewidth\":0,\"ticks\":\"\"}}}],\"scatterpolargl\":[{\"type\":\"scatterpolargl\",\"marker\":{\"colorbar\":{\"outlinewidth\":0,\"ticks\":\"\"}}}],\"bar\":[{\"error_x\":{\"color\":\"#2a3f5f\"},\"error_y\":{\"color\":\"#2a3f5f\"},\"marker\":{\"line\":{\"color\":\"#E5ECF6\",\"width\":0.5},\"pattern\":{\"fillmode\":\"overlay\",\"size\":10,\"solidity\":0.2}},\"type\":\"bar\"}],\"scattergeo\":[{\"type\":\"scattergeo\",\"marker\":{\"colorbar\":{\"outlinewidth\":0,\"ticks\":\"\"}}}],\"scatterpolar\":[{\"type\":\"scatterpolar\",\"marker\":{\"colorbar\":{\"outlinewidth\":0,\"ticks\":\"\"}}}],\"histogram\":[{\"marker\":{\"pattern\":{\"fillmode\":\"overlay\",\"size\":10,\"solidity\":0.2}},\"type\":\"histogram\"}],\"scattergl\":[{\"type\":\"scattergl\",\"marker\":{\"colorbar\":{\"outlinewidth\":0,\"ticks\":\"\"}}}],\"scatter3d\":[{\"type\":\"scatter3d\",\"line\":{\"colorbar\":{\"outlinewidth\":0,\"ticks\":\"\"}},\"marker\":{\"colorbar\":{\"outlinewidth\":0,\"ticks\":\"\"}}}],\"scattermapbox\":[{\"type\":\"scattermapbox\",\"marker\":{\"colorbar\":{\"outlinewidth\":0,\"ticks\":\"\"}}}],\"scatterternary\":[{\"type\":\"scatterternary\",\"marker\":{\"colorbar\":{\"outlinewidth\":0,\"ticks\":\"\"}}}],\"scattercarpet\":[{\"type\":\"scattercarpet\",\"marker\":{\"colorbar\":{\"outlinewidth\":0,\"ticks\":\"\"}}}],\"carpet\":[{\"aaxis\":{\"endlinecolor\":\"#2a3f5f\",\"gridcolor\":\"white\",\"linecolor\":\"white\",\"minorgridcolor\":\"white\",\"startlinecolor\":\"#2a3f5f\"},\"baxis\":{\"endlinecolor\":\"#2a3f5f\",\"gridcolor\":\"white\",\"linecolor\":\"white\",\"minorgridcolor\":\"white\",\"startlinecolor\":\"#2a3f5f\"},\"type\":\"carpet\"}],\"table\":[{\"cells\":{\"fill\":{\"color\":\"#EBF0F8\"},\"line\":{\"color\":\"white\"}},\"header\":{\"fill\":{\"color\":\"#C8D4E3\"},\"line\":{\"color\":\"white\"}},\"type\":\"table\"}],\"barpolar\":[{\"marker\":{\"line\":{\"color\":\"#E5ECF6\",\"width\":0.5},\"pattern\":{\"fillmode\":\"overlay\",\"size\":10,\"solidity\":0.2}},\"type\":\"barpolar\"}],\"pie\":[{\"automargin\":true,\"type\":\"pie\"}]},\"layout\":{\"autotypenumbers\":\"strict\",\"colorway\":[\"#636efa\",\"#EF553B\",\"#00cc96\",\"#ab63fa\",\"#FFA15A\",\"#19d3f3\",\"#FF6692\",\"#B6E880\",\"#FF97FF\",\"#FECB52\"],\"font\":{\"color\":\"#2a3f5f\"},\"hovermode\":\"closest\",\"hoverlabel\":{\"align\":\"left\"},\"paper_bgcolor\":\"white\",\"plot_bgcolor\":\"#E5ECF6\",\"polar\":{\"bgcolor\":\"#E5ECF6\",\"angularaxis\":{\"gridcolor\":\"white\",\"linecolor\":\"white\",\"ticks\":\"\"},\"radialaxis\":{\"gridcolor\":\"white\",\"linecolor\":\"white\",\"ticks\":\"\"}},\"ternary\":{\"bgcolor\":\"#E5ECF6\",\"aaxis\":{\"gridcolor\":\"white\",\"linecolor\":\"white\",\"ticks\":\"\"},\"baxis\":{\"gridcolor\":\"white\",\"linecolor\":\"white\",\"ticks\":\"\"},\"caxis\":{\"gridcolor\":\"white\",\"linecolor\":\"white\",\"ticks\":\"\"}},\"coloraxis\":{\"colorbar\":{\"outlinewidth\":0,\"ticks\":\"\"}},\"colorscale\":{\"sequential\":[[0.0,\"#0d0887\"],[0.1111111111111111,\"#46039f\"],[0.2222222222222222,\"#7201a8\"],[0.3333333333333333,\"#9c179e\"],[0.4444444444444444,\"#bd3786\"],[0.5555555555555556,\"#d8576b\"],[0.6666666666666666,\"#ed7953\"],[0.7777777777777778,\"#fb9f3a\"],[0.8888888888888888,\"#fdca26\"],[1.0,\"#f0f921\"]],\"sequentialminus\":[[0.0,\"#0d0887\"],[0.1111111111111111,\"#46039f\"],[0.2222222222222222,\"#7201a8\"],[0.3333333333333333,\"#9c179e\"],[0.4444444444444444,\"#bd3786\"],[0.5555555555555556,\"#d8576b\"],[0.6666666666666666,\"#ed7953\"],[0.7777777777777778,\"#fb9f3a\"],[0.8888888888888888,\"#fdca26\"],[1.0,\"#f0f921\"]],\"diverging\":[[0,\"#8e0152\"],[0.1,\"#c51b7d\"],[0.2,\"#de77ae\"],[0.3,\"#f1b6da\"],[0.4,\"#fde0ef\"],[0.5,\"#f7f7f7\"],[0.6,\"#e6f5d0\"],[0.7,\"#b8e186\"],[0.8,\"#7fbc41\"],[0.9,\"#4d9221\"],[1,\"#276419\"]]},\"xaxis\":{\"gridcolor\":\"white\",\"linecolor\":\"white\",\"ticks\":\"\",\"title\":{\"standoff\":15},\"zerolinecolor\":\"white\",\"automargin\":true,\"zerolinewidth\":2},\"yaxis\":{\"gridcolor\":\"white\",\"linecolor\":\"white\",\"ticks\":\"\",\"title\":{\"standoff\":15},\"zerolinecolor\":\"white\",\"automargin\":true,\"zerolinewidth\":2},\"scene\":{\"xaxis\":{\"backgroundcolor\":\"#E5ECF6\",\"gridcolor\":\"white\",\"linecolor\":\"white\",\"showbackground\":true,\"ticks\":\"\",\"zerolinecolor\":\"white\",\"gridwidth\":2},\"yaxis\":{\"backgroundcolor\":\"#E5ECF6\",\"gridcolor\":\"white\",\"linecolor\":\"white\",\"showbackground\":true,\"ticks\":\"\",\"zerolinecolor\":\"white\",\"gridwidth\":2},\"zaxis\":{\"backgroundcolor\":\"#E5ECF6\",\"gridcolor\":\"white\",\"linecolor\":\"white\",\"showbackground\":true,\"ticks\":\"\",\"zerolinecolor\":\"white\",\"gridwidth\":2}},\"shapedefaults\":{\"line\":{\"color\":\"#2a3f5f\"}},\"annotationdefaults\":{\"arrowcolor\":\"#2a3f5f\",\"arrowhead\":0,\"arrowwidth\":1},\"geo\":{\"bgcolor\":\"white\",\"landcolor\":\"#E5ECF6\",\"subunitcolor\":\"white\",\"showland\":true,\"showlakes\":true,\"lakecolor\":\"white\"},\"title\":{\"x\":0.05},\"mapbox\":{\"style\":\"light\"}}},\"xaxis\":{\"anchor\":\"y\",\"domain\":[0.0,1.0],\"scaleanchor\":\"y\",\"constrain\":\"domain\"},\"yaxis\":{\"anchor\":\"x\",\"domain\":[0.0,1.0],\"autorange\":\"reversed\",\"constrain\":\"domain\"},\"coloraxis\":{\"colorscale\":[[0.0,\"#0d0887\"],[0.1111111111111111,\"#46039f\"],[0.2222222222222222,\"#7201a8\"],[0.3333333333333333,\"#9c179e\"],[0.4444444444444444,\"#bd3786\"],[0.5555555555555556,\"#d8576b\"],[0.6666666666666666,\"#ed7953\"],[0.7777777777777778,\"#fb9f3a\"],[0.8888888888888888,\"#fdca26\"],[1.0,\"#f0f921\"]]},\"title\":{\"text\":\"Correlation Plot\"}},                        {\"responsive\": true}                    ).then(function(){\n",
              "                            \n",
              "var gd = document.getElementById('4ce6418b-5a6e-40cb-92c6-c906d490009c');\n",
              "var x = new MutationObserver(function (mutations, observer) {{\n",
              "        var display = window.getComputedStyle(gd).display;\n",
              "        if (!display || display === 'none') {{\n",
              "            console.log([gd, 'removed!']);\n",
              "            Plotly.purge(gd);\n",
              "            observer.disconnect();\n",
              "        }}\n",
              "}});\n",
              "\n",
              "// Listen for the removal of the full notebook cells\n",
              "var notebookContainer = gd.closest('#notebook-container');\n",
              "if (notebookContainer) {{\n",
              "    x.observe(notebookContainer, {childList: true});\n",
              "}}\n",
              "\n",
              "// Listen for the clearing of the current output cell\n",
              "var outputEl = gd.closest('.output');\n",
              "if (outputEl) {{\n",
              "    x.observe(outputEl, {childList: true});\n",
              "}}\n",
              "\n",
              "                        })                };                            </script>        </div>\n",
              "</body>\n",
              "</html>"
            ]
          },
          "metadata": {},
          "output_type": "display_data"
        }
      ],
      "source": [
        "px.imshow(location_uBahn.corr(),title=\"Correlation Plot\")"
      ]
    },
    {
      "cell_type": "markdown",
      "id": "RhcIWRD-csSn",
      "metadata": {
        "id": "RhcIWRD-csSn"
      },
      "source": [
        "To read: [Fundamental Techniques of Feature Engineering for Machine Learning](https://towardsdatascience.com/feature-engineering-for-machine-learning-3a5e293a5114)\n",
        "\n"
      ]
    },
    {
      "cell_type": "markdown",
      "id": "AZcwinH6c6Pq",
      "metadata": {
        "id": "AZcwinH6c6Pq"
      },
      "source": [
        "#NEXT STEP\n",
        "Separating labels and predictors\n",
        "\n",
        "```\n",
        "X=df.drop('location',axis=1)\n",
        "y=df['location'].values\n",
        "```\n",
        "Splitting train (75%) and test set (25%)\n",
        "\n",
        "```\n",
        "from sklearn.model_selection import train_test_split\n",
        "X_train, X_test, y_train, y_test = train_test_split(X, y, test_size=0.25, random_state=42)\n",
        "```\n",
        "Selecting categorical dataframe in train set\n",
        "```\n",
        "X_train_cat=df.select_dtypes(exclude=['number'])\n",
        "```\n",
        "Translate transport type into numerical values. For example: auto as 0, bus as 1, ubahn as 2, fahrrad as 3\n",
        "\n",
        "Applying label encoding for categorical features in train set\n",
        "```\n",
        "importing label encoder\n",
        "from sklearn.preprocessing import LabelEncoder\n",
        "labelencoder = LabelEncoder()\n",
        "X_train_cat=X_train_cat.apply(LabelEncoder().fit_transform)\n",
        "```\n",
        "Importing ColumnTransformer and OneHotEncoder\n",
        "```\n",
        "from sklearn.compose import ColumnTransformer\n",
        "from sklearn.preprocessing import OneHotEncoder\n",
        "```\n",
        "\n",
        "Separating numerical and categorical attributes in the train set\n",
        "```\n",
        "num_attribs = list (X_train_num)\n",
        "cat_attribs = list (X_train_cat)\n",
        "```\n",
        "Creating a full pipeline: numerical + categorical\n",
        "```\n",
        "full_pipeline = ColumnTransformer([(\"num\",num_pipeline,num_attribs),(\"cat\",```OneHotEncoder(handle_unknown='ignore'),cat_attribs)])\n",
        "```\n",
        "\n",
        "Fit and transform the train set using the full pipeline\n",
        "```\n",
        "X_train_prepd = full_pipeline.fit_transform(X_train)\n",
        "```"
      ]
    },
    {
      "cell_type": "markdown",
      "id": "qATsEM-a2qAU",
      "metadata": {
        "id": "qATsEM-a2qAU"
      },
      "source": [
        "\n",
        "To do:\n",
        "\n",
        "Location_bus,\n",
        "\n",
        "Location_fahhrad,\n",
        "\n",
        "Location_auto\n",
        "\n",
        "Imputation: Fill in values of altitudeAboveMeanSeaLevel\n",
        "\n",
        "\n"
      ]
    }
  ],
  "metadata": {
    "colab": {
      "include_colab_link": true,
      "provenance": []
    },
    "kernelspec": {
      "display_name": "Python 3 (ipykernel)",
      "language": "python",
      "name": "python3"
    },
    "language_info": {
      "codemirror_mode": {
        "name": "ipython",
        "version": 3
      },
      "file_extension": ".py",
      "mimetype": "text/x-python",
      "name": "python",
      "nbconvert_exporter": "python",
      "pygments_lexer": "ipython3",
      "version": "3.10.9"
    }
  },
  "nbformat": 4,
  "nbformat_minor": 5
}
