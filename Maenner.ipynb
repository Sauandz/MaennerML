{
  "cells": [
    {
      "attachments": {},
      "cell_type": "markdown",
      "id": "t-0l79yWgbMv",
      "metadata": {
        "id": "t-0l79yWgbMv"
      },
      "source": [
        "## Data Loading\n"
      ]
    },
    {
      "cell_type": "code",
      "execution_count": 1,
      "id": "e9d632c4-b26f-4a8c-852c-b02ebc47fefd",
      "metadata": {
        "id": "e9d632c4-b26f-4a8c-852c-b02ebc47fefd"
      },
      "outputs": [],
      "source": [
        "#importing necessery libraries for future analysis of the dataset\n",
        "import pandas as pd\n",
        "import matplotlib.pyplot as plt\n",
        "import matplotlib as plt\n",
        "import seaborn as sns\n"
      ]
    },
    {
      "cell_type": "code",
      "execution_count": 115,
      "id": "57ed8337-2261-4bc6-9f7a-9dbc293ff4fd",
      "metadata": {
        "id": "57ed8337-2261-4bc6-9f7a-9dbc293ff4fd"
      },
      "outputs": [],
      "source": [
        "#Read data\n",
        "ubahn_location=pd.read_json(\"/Users/tramduong/Desktop/Python/ML4B/Git/MaennerML/Data/ubahn.json\")\n",
        "fahrrad_location = pd.read_json(\"/Users/tramduong/Desktop/Python/ML4B/Git/MaennerML/Data/fahrrad.json\")\n",
        "ubahn_accelerometer = pd.read_json(\"/Users/tramduong/Desktop/Python/ML4B/Git/MaennerML/Data/Ubahn/Accelerometer_uBahn.json\")"
      ]
    },
    {
      "cell_type": "code",
      "execution_count": 114,
      "id": "7cfd75e7",
      "metadata": {},
      "outputs": [],
      "source": [
        "#Read auto data\n",
        "auto_location1 = pd.read_csv(\"/Users/tramduong/Desktop/Python/ML4B/Git/MaennerML/Data/Location stadt.csv\")\n",
        "auto_location2 = pd.read_csv(\"/Users/tramduong/Desktop/Python/ML4B/Git/MaennerML/Data/Location.csv\")\n",
        "auto_location3 = pd.read_csv(\"/Users/tramduong/Desktop/Python/ML4B/Git/MaennerML/Data/Location1.csv\")\n",
        "auto_location4 = pd.read_csv(\"/Users/tramduong/Desktop/Python/ML4B/Git/MaennerML/Data/Location2.csv\")\n",
        "auto_location5 = pd.read_csv(\"/Users/tramduong/Desktop/Python/ML4B/Git/MaennerML/Data/Location3.csv\")\n",
        "auto_location6 = pd.read_csv(\"/Users/tramduong/Desktop/Python/ML4B/Git/MaennerML/Data/Location4.csv\")\n",
        "auto_accelerometer1 = pd.read_csv(\"/Users/tramduong/Desktop/Python/ML4B/Git/MaennerML/Data/Accelerometer stadt.csv\")\n",
        "auto_accelerometer2 = pd.read_csv(\"/Users/tramduong/Desktop/Python/ML4B/Git/MaennerML/Data/Accelerometer1.csv\")\n",
        "auto_accelerometer3 = pd.read_csv(\"/Users/tramduong/Desktop/Python/ML4B/Git/MaennerML/Data/Accelerometer2.csv\")\n",
        "auto_accelerometer4 = pd.read_csv(\"/Users/tramduong/Desktop/Python/ML4B/Git/MaennerML/Data/Accelerometer3.csv\")\n",
        "auto_accelerometer5 = pd.read_csv(\"/Users/tramduong/Desktop/Python/ML4B/Git/MaennerML/Data/Accelerometer4.csv\")"
      ]
    },
    {
      "cell_type": "code",
      "execution_count": 116,
      "id": "6d528e8d",
      "metadata": {},
      "outputs": [],
      "source": [
        "#Create df for auto\n",
        "auto_location = [auto_location1, auto_location2, auto_location3, auto_location4, auto_location5, auto_location6]\n",
        "auto_location = pd.concat(auto_location)\n",
        "for auto in auto_location: \n",
        "    auto_location['Type'] = 'Auto'\n",
        "\n",
        "auto_accelerometer = [auto_accelerometer1, auto_accelerometer2, auto_accelerometer3, auto_accelerometer4, auto_accelerometer5]\n",
        "auto_accelerometer = pd.concat(auto_accelerometer)\n",
        "for auto in auto_accelerometer: \n",
        "    auto_accelerometer['Type'] = 'Auto'"
      ]
    },
    {
      "cell_type": "code",
      "execution_count": 5,
      "id": "72b8a13f",
      "metadata": {},
      "outputs": [],
      "source": [
        "#auto_accelerometer.info()"
      ]
    },
    {
      "cell_type": "code",
      "execution_count": 93,
      "id": "40acc513",
      "metadata": {},
      "outputs": [
        {
          "data": {
            "text/plain": [
              "array(['0', '2', '1'], dtype=object)"
            ]
          },
          "execution_count": 93,
          "metadata": {},
          "output_type": "execute_result"
        }
      ],
      "source": [
        "#Combine data\n",
        "location_df = [ubahn_location, fahrrad_location, auto_location]\n",
        "location_df = pd.concat(location_df)\n",
        "location_df.reset_index(inplace=True)\n",
        "location_df = location_df.set_index('time')\n",
        "#location_df = location_df.drop('index', axis=1, inplace=True)\n",
        "\n",
        "#Categorical feature should be converted to numercal values\n",
        "type_mapping = {'uBahn': '0', 'Auto': '1', 'Fahrrad': '2'}\n",
        "\n",
        "location_df['Type'] = location_df['Type'].map(type_mapping).fillna('3')\n",
        "location_df = location_df.drop(['index', 'level_0'], axis=1)\n",
        "location_df['Type'].unique()"
      ]
    },
    {
      "cell_type": "code",
      "execution_count": null,
      "id": "aa95426b",
      "metadata": {},
      "outputs": [],
      "source": [
        "location_df.head()"
      ]
    },
    {
      "cell_type": "code",
      "execution_count": 118,
      "id": "21cbe1ea",
      "metadata": {},
      "outputs": [
        {
          "data": {
            "text/plain": [
              "array([0., 1.])"
            ]
          },
          "execution_count": 118,
          "metadata": {},
          "output_type": "execute_result"
        }
      ],
      "source": [
        "#Same for Accelerometer\n",
        "accelerometer_df = [ubahn_accelerometer, auto_accelerometer]\n",
        "accelerometer_df = pd.concat(accelerometer_df)\n",
        "accelerometer_df = accelerometer_df.set_index('time')\n",
        "accelerometer_df = accelerometer_df.drop(['sensor'], axis=1)\n",
        "#accelerometer_df['Type'].unique()\n",
        "\n",
        "#Reminder: type_mapping = {'uBahn': '0', 'Auto': '1', 'Fahrrad': '2'}\n",
        "accelerometer_df['Type'] = accelerometer_df['Type'].map(type_mapping).fillna('3')\n",
        "accelerometer_df['Type'] = accelerometer_df['Type'].astype(float)\n",
        "accelerometer_df['Type'].unique()\n",
        "\n"
      ]
    },
    {
      "cell_type": "code",
      "execution_count": 126,
      "id": "d88444d8",
      "metadata": {},
      "outputs": [
        {
          "name": "stdout",
          "output_type": "stream",
          "text": [
            "<class 'pandas.core.frame.DataFrame'>\n",
            "Int64Index: 457702 entries, 1684909322000000256 to 1687692889262363400\n",
            "Data columns (total 5 columns):\n",
            " #   Column           Non-Null Count   Dtype  \n",
            "---  ------           --------------   -----  \n",
            " 0   seconds_elapsed  457702 non-null  float64\n",
            " 1   z                457702 non-null  float64\n",
            " 2   y                457702 non-null  float64\n",
            " 3   x                457702 non-null  float64\n",
            " 4   Type             457702 non-null  float64\n",
            "dtypes: float64(5)\n",
            "memory usage: 21.0 MB\n"
          ]
        }
      ],
      "source": [
        "accelerometer_df.head()\n",
        "accelerometer_df.info()"
      ]
    },
    {
      "cell_type": "code",
      "execution_count": 120,
      "id": "8cbc02c5",
      "metadata": {},
      "outputs": [],
      "source": [
        "#separating labels and predictors\n",
        "x=accelerometer_df.drop('Type',axis=1)\n",
        "y=accelerometer_df['Type'].values\n",
        "\n",
        "#splitting train (75%) and test set (25%)\n",
        "from sklearn.model_selection import train_test_split\n",
        "x_train, x_test, y_train, y_test = train_test_split(x, y, test_size=0.25, random_state=42)\n"
      ]
    },
    {
      "attachments": {},
      "cell_type": "markdown",
      "id": "9bf70895",
      "metadata": {},
      "source": [
        "## Data visualizations"
      ]
    },
    {
      "cell_type": "code",
      "execution_count": null,
      "id": "5c9dc5a1",
      "metadata": {},
      "outputs": [],
      "source": [
        "import matplotlib.pyplot as plt\n",
        "import seaborn as sns\n",
        "\n",
        "plt.figure(figsize=(10,10))\n",
        "sns.scatterplot(x='time', y='speed', hue='Type', data=location_df)"
      ]
    },
    {
      "cell_type": "code",
      "execution_count": null,
      "id": "cd6791ad",
      "metadata": {},
      "outputs": [],
      "source": [
        "accelerometer_df.plot(figsize=(10,5))"
      ]
    },
    {
      "attachments": {},
      "cell_type": "markdown",
      "id": "RhcIWRD-csSn",
      "metadata": {
        "id": "RhcIWRD-csSn"
      },
      "source": [
        "To read: [Fundamental Techniques of Feature Engineering for Machine Learning](https://towardsdatascience.com/feature-engineering-for-machine-learning-3a5e293a5114)\n",
        "\n"
      ]
    },
    {
      "attachments": {},
      "cell_type": "markdown",
      "id": "e99d6d2c",
      "metadata": {},
      "source": [
        "## Training the model"
      ]
    },
    {
      "attachments": {},
      "cell_type": "markdown",
      "id": "1b7e4646",
      "metadata": {},
      "source": [
        "### Decision Tree"
      ]
    },
    {
      "cell_type": "code",
      "execution_count": 128,
      "id": "177aa17f",
      "metadata": {},
      "outputs": [
        {
          "data": {
            "text/plain": [
              "'\\nacc = accuracy_score(test_classes, test_prediction)\\ndf_feature = pd.DataFrame(\\n            {\\'accuracy\\': acc, \\'features\\': features, \\'importance\\': classifier_decision_tree.feature_importances_})\\ndf_feature = df_feature.sort_values(by=\\'importance\\', ascending=False)\\nprint(\"ACCURACY : \" + str(acc))\\nprint(\"END TREE\")\\n'"
            ]
          },
          "execution_count": 128,
          "metadata": {},
          "output_type": "execute_result"
        }
      ],
      "source": [
        "#importing decision tree model\n",
        "from sklearn.metrics import mean_squared_error\n",
        "import numpy as np \n",
        "from sklearn import tree\n",
        "from sklearn.tree import DecisionTreeRegressor\n",
        "\n",
        "\"\"\"\n",
        "acc = accuracy_score(test_classes, test_prediction)\n",
        "df_feature = pd.DataFrame(\n",
        "            {'accuracy': acc, 'features': features, 'importance': classifier_decision_tree.feature_importances_})\n",
        "df_feature = df_feature.sort_values(by='importance', ascending=False)\n",
        "print(\"ACCURACY : \" + str(acc))\n",
        "print(\"END TREE\")\n",
        "\"\"\""
      ]
    },
    {
      "cell_type": "code",
      "execution_count": 129,
      "id": "b4bcff06",
      "metadata": {},
      "outputs": [
        {
          "name": "stdout",
          "output_type": "stream",
          "text": [
            "Type from Data Set:\n",
            "[0. 0. 0. ... 0. 0. 0.]\n",
            "Type from Prediction: \n",
            "[0. 0. 0. ... 0. 0. 0.]\n",
            "Mean squared error: 0.000\n",
            "Root mean squared error: 0.000\n"
          ]
        }
      ],
      "source": [
        "classifier_decision_tree = tree.DecisionTreeClassifier()\n",
        "classifier_decision_tree.fit(x_train, y_train)\n",
        "tree_prediction = classifier_decision_tree.predict(x_train)\n",
        "\n",
        "\"\"\"\n",
        "#defining decision tree regressor\n",
        "tree_reg=DecisionTreeRegressor()\n",
        "#feeding X_train and y_train into the regressor\n",
        "tree_reg.fit(x_train,y_train)\n",
        "#making predictions on train set\n",
        "tree_predictions = tree_reg.predict(x_train)\n",
        "\"\"\"\n",
        "\n",
        "print(\"Type from Data Set:\" )\n",
        "print(y_train)\n",
        "print(\"Type from Prediction: \")\n",
        "print(tree_prediction)\n",
        "\n",
        "#getting MSE and RMSE values\n",
        "tree_mse=mean_squared_error(y_train,tree_prediction)\n",
        "tree_rmse=np.sqrt(tree_mse)\n",
        "\n",
        "print(\"Mean squared error: %.3f\" % tree_mse)\n",
        "print(\"Root mean squared error: %.3f\" % tree_rmse)"
      ]
    },
    {
      "cell_type": "code",
      "execution_count": 124,
      "id": "5cbb8b09",
      "metadata": {},
      "outputs": [
        {
          "name": "stdout",
          "output_type": "stream",
          "text": [
            "Scores: [0.41019404 0.41005198 0.41047801 0.40533612 0.40605416 0.40909179\n",
            " 0.40756387 0.40325243 0.40717056 0.41503623]\n",
            "Mean: 0.408\n",
            "STD: 0.003\n"
          ]
        }
      ],
      "source": [
        "from sklearn.model_selection import cross_val_score\n",
        "#performing 10-fold validation\n",
        "scores=cross_val_score(tree_reg, x_train, y_train, scoring = \"neg_mean_squared_error\",cv=10)\n",
        "\n",
        "# skleanr's cross validation expect a utility function, so the greater the better. \n",
        "# That is why putting a negative sign\n",
        "tree_rmse_scores=np.sqrt(-scores)\n",
        "print(\"Scores:\", tree_rmse_scores)\n",
        "print(\"Mean: %.3f\" % tree_rmse_scores.mean())\n",
        "print(\"STD: %.3f\" %  tree_rmse_scores.std())"
      ]
    },
    {
      "cell_type": "code",
      "execution_count": 125,
      "id": "f09d5e22",
      "metadata": {},
      "outputs": [
        {
          "data": {
            "text/plain": [
              "<matplotlib.legend.Legend at 0x132d39790>"
            ]
          },
          "execution_count": 125,
          "metadata": {},
          "output_type": "execute_result"
        },
        {
          "data": {
            "image/png": "[encoded data removed]",
            "text/plain": [
              "<Figure size 640x480 with 1 Axes>"
            ]
          },
          "metadata": {},
          "output_type": "display_data"
        }
      ],
      "source": [
        "plt.scatter(y_train,tree_predictions, label='Predictions')\n",
        "plt.plot(y_train,y_train,'r',label='Perfect prediction line')\n",
        "plt.xlabel(\"Type in the train set\")\n",
        "plt.ylabel(\"Predicted Type\")\n",
        "plt.legend()"
      ]
    },
    {
      "cell_type": "code",
      "execution_count": null,
      "id": "a9d8a7f3",
      "metadata": {},
      "outputs": [],
      "source": []
    }
  ],
  "metadata": {
    "colab": {
      "include_colab_link": true,
      "provenance": []
    },
    "kernelspec": {
      "display_name": "Python 3 (ipykernel)",
      "language": "python",
      "name": "python3"
    },
    "language_info": {
      "codemirror_mode": {
        "name": "ipython",
        "version": 3
      },
      "file_extension": ".py",
      "mimetype": "text/x-python",
      "name": "python",
      "nbconvert_exporter": "python",
      "pygments_lexer": "ipython3",
      "version": "3.11.0"
    }
  },
  "nbformat": 4,
  "nbformat_minor": 5
}
