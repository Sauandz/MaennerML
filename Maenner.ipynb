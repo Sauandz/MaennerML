{
  "cells": [
    {
      "cell_type": "markdown",
      "metadata": {
        "id": "view-in-github",
        "colab_type": "text"
      },
      "source": [
        "<a href=\"https://colab.research.google.com/github/trammmd/MaennerML/blob/main/Maenner.ipynb\" target=\"_parent\"><img src=\"https://colab.research.google.com/assets/colab-badge.svg\" alt=\"Open In Colab\"/></a>"
      ]
    },
    {
      "cell_type": "code",
      "source": [
        "!pip install tensorflow\n",
        "!pip install shap\n",
        "!pip install seaborn"
      ],
      "metadata": {
        "id": "lvsVSoYRgy1-"
      },
      "id": "lvsVSoYRgy1-",
      "execution_count": null,
      "outputs": []
    },
    {
      "cell_type": "code",
      "source": [
        "#Connect Drive\n",
        "from google.colab import drive\n",
        "drive.mount('/content/drive')"
      ],
      "metadata": {
        "id": "pqhLBOHT3c_v",
        "colab": {
          "base_uri": "https://localhost:8080/"
        },
        "outputId": "10ee7c71-1437-414e-9408-f2e159d04744"
      },
      "id": "pqhLBOHT3c_v",
      "execution_count": 66,
      "outputs": [
        {
          "output_type": "stream",
          "name": "stdout",
          "text": [
            "Drive already mounted at /content/drive; to attempt to forcibly remount, call drive.mount(\"/content/drive\", force_remount=True).\n"
          ]
        }
      ]
    },
    {
      "cell_type": "markdown",
      "source": [
        "#Data Loading\n"
      ],
      "metadata": {
        "id": "t-0l79yWgbMv"
      },
      "id": "t-0l79yWgbMv"
    },
    {
      "cell_type": "code",
      "execution_count": 67,
      "id": "e9d632c4-b26f-4a8c-852c-b02ebc47fefd",
      "metadata": {
        "id": "e9d632c4-b26f-4a8c-852c-b02ebc47fefd"
      },
      "outputs": [],
      "source": [
        "#importing necessery libraries for future analysis of the dataset\n",
        "import pandas as pd\n",
        "from tensorflow.keras import models, layers, utils, backend as K\n",
        "import matplotlib.pyplot as plt\n",
        "import shap\n",
        "import matplotlib as plt\n",
        "import seaborn as sns\n",
        "import folium\n"
      ]
    },
    {
      "cell_type": "code",
      "execution_count": 68,
      "id": "57ed8337-2261-4bc6-9f7a-9dbc293ff4fd",
      "metadata": {
        "id": "57ed8337-2261-4bc6-9f7a-9dbc293ff4fd"
      },
      "outputs": [],
      "source": [
        "#Read data\n",
        "uBahn_1=pd.read_json(\"/content/drive/MyDrive/Colab Notebooks/ML4B/uBahn/Ubahn_Rathenauplatz-Rennweg.23-05-23_13-11-53.json\")\n",
        "uBahn_2=pd.read_json(\"/content/drive/MyDrive/Colab Notebooks/ML4B/uBahn/Ubahn_Rathenauplatz-Wöhrder Wiese.24-05-23_13-32-31.json\")\n",
        "uBahn_3=pd.read_json(\"/content/drive/MyDrive/Colab Notebooks/ML4B/uBahn/Ubahn_Rennweg-Schoppershof.23-05-23_13-13-24.json\")\n",
        "uBahn_4=pd.read_json(\"/content/drive/MyDrive/Colab Notebooks/ML4B/uBahn/Ubahn_Wöhrder Wiese-Hbf-Opernhaus.24-05-23_13-33-39.json\")\n",
        "uBahn_5=pd.read_json(\"/content/drive/MyDrive/Colab Notebooks/ML4B/uBahn/uBahn-2023-05-22_15-59-14 2.json\")\n",
        "uBahn_6=pd.read_json(\"/content/drive/MyDrive/Colab Notebooks/ML4B/uBahn/uBahn_Bauernfeindstr._-_Langwasser_Mitte-2023-05-24_06-22-01 2.json\")\n",
        "uBahn_7=pd.read_json(\"/content/drive/MyDrive/Colab Notebooks/ML4B/uBahn/uBahn_Hbf-Friedrich_Ebert_Platz-2023-05-23_11-21-01 2.json\")\n",
        "Fahrrad_1 = pd.read_csv(\"/content/drive/MyDrive/Colab Notebooks/ML4B/Fahrrad_Zip/Location1.csv\")\n",
        "Fahrrad_2 = pd.read_csv(\"/content/drive/MyDrive/Colab Notebooks/ML4B/Fahrrad_Zip/Location2.csv\")\n",
        "Fahrrad_3 = pd.read_csv(\"/content/drive/MyDrive/Colab Notebooks/ML4B/Fahrrad_Zip/Location3.csv\")\n",
        "Fahrrad_4 = pd.read_csv(\"/content/drive/MyDrive/Colab Notebooks/ML4B/Fahrrad_Zip/Location4.csv\")\n",
        "Fahrrad_5 = pd.read_csv(\"/content/drive/MyDrive/Colab Notebooks/ML4B/Fahrrad_Zip/Location5.csv\")\n",
        "\n"
      ]
    },
    {
      "cell_type": "code",
      "execution_count": 69,
      "id": "c2a7f6b3-4eed-4315-9ac8-40868afd22f8",
      "metadata": {
        "id": "c2a7f6b3-4eed-4315-9ac8-40868afd22f8"
      },
      "outputs": [],
      "source": [
        "#Create dataframes for Ubahn\n",
        "uBahn_df = [uBahn_1, uBahn_2, uBahn_3, uBahn_4, uBahn_5, uBahn_6, uBahn_7]\n",
        "uBahn_df  = pd.concat(uBahn_df )\n",
        "\n",
        "#Create df for Fahrrad\n",
        "\n",
        "Fahrrad_df= [Fahrrad_1, Fahrrad_2, Fahrrad_3, Fahrrad_4, Fahrrad_5]\n",
        "Fahrrad_df = pd.concat(Fahrrad_df)"
      ]
    },
    {
      "cell_type": "markdown",
      "source": [
        "#Feature Engineering\n"
      ],
      "metadata": {
        "id": "ta3JJydialB-"
      },
      "id": "ta3JJydialB-"
    },
    {
      "cell_type": "code",
      "execution_count": 70,
      "id": "6c6cd33b-0645-4856-9abb-7546180db29f",
      "metadata": {
        "id": "6c6cd33b-0645-4856-9abb-7546180db29f"
      },
      "outputs": [],
      "source": [
        "#Extract Location from df\n",
        "location_uBahn = uBahn_df[uBahn_df['sensor'] == 'Location']"
      ]
    },
    {
      "cell_type": "code",
      "source": [
        "#Add new column for traffic\n",
        "for i in range(len(location_uBahn)):\n",
        "  location_uBahn['Type'] = 'uBahn'\n",
        "\n",
        "for i in range(len(Fahrrad_df)):\n",
        "    Fahrrad_df['Type'] = 'Fahrrad'\n",
        "Fahrrad_df.head()"
      ],
      "metadata": {
        "id": "j0mwP1S_z5fU",
        "colab": {
          "base_uri": "https://localhost:8080/",
          "height": 404
        },
        "outputId": "3c41d704-3716-4aa6-d421-ce563a423dcb"
      },
      "id": "j0mwP1S_z5fU",
      "execution_count": 71,
      "outputs": [
        {
          "output_type": "stream",
          "name": "stderr",
          "text": [
            "<ipython-input-71-22027c5a7cab>:3: SettingWithCopyWarning:\n",
            "\n",
            "\n",
            "A value is trying to be set on a copy of a slice from a DataFrame.\n",
            "Try using .loc[row_indexer,col_indexer] = value instead\n",
            "\n",
            "See the caveats in the documentation: https://pandas.pydata.org/pandas-docs/stable/user_guide/indexing.html#returning-a-view-versus-a-copy\n",
            "\n"
          ]
        },
        {
          "output_type": "execute_result",
          "data": {
            "text/plain": [
              "                  time  seconds_elapsed    altitude  speedAccuracy  \\\n",
              "0  1683706093318377000       -28.847623  359.387531      -1.000000   \n",
              "1  1683706150999348200        28.833348  359.336569       0.723846   \n",
              "2  1683706208000208400        85.834208  359.309165       1.018800   \n",
              "3  1683706265000976100       142.834976  359.716832       0.974201   \n",
              "4  1683706323000254500       200.834254  358.420130       1.017401   \n",
              "\n",
              "   bearingAccuracy   latitude  altitudeAboveMeanSeaLevel     bearing  \\\n",
              "0        -1.000000  49.455863                 313.797531   -1.000000   \n",
              "1        25.482019  49.455798                 313.746569  231.174278   \n",
              "2        16.142837  49.455288                 313.719165  232.706895   \n",
              "3        10.291368  49.453161                 314.126832  225.542776   \n",
              "4        11.544745  49.451676                 312.830130  234.996558   \n",
              "\n",
              "   horizontalAccuracy  verticalAccuracy  longitude     speed     Type  \n",
              "0           11.416650         14.562453  11.126913 -1.000000  Fahrrad  \n",
              "1            7.715990          8.053696  11.126582  0.503094  Fahrrad  \n",
              "2            4.840367          3.224188  11.124600  3.399262  Fahrrad  \n",
              "3            4.762798          3.337708  11.122296  5.012913  Fahrrad  \n",
              "4            4.778603          3.315040  11.118777  4.727707  Fahrrad  "
            ],
            "text/html": [
              "\n",
              "  <div id=\"df-f6fd0a48-8a1e-4a07-a351-cc2ae24b7d0e\">\n",
              "    <div class=\"colab-df-container\">\n",
              "      <div>\n",
              "<style scoped>\n",
              "    .dataframe tbody tr th:only-of-type {\n",
              "        vertical-align: middle;\n",
              "    }\n",
              "\n",
              "    .dataframe tbody tr th {\n",
              "        vertical-align: top;\n",
              "    }\n",
              "\n",
              "    .dataframe thead th {\n",
              "        text-align: right;\n",
              "    }\n",
              "</style>\n",
              "<table border=\"1\" class=\"dataframe\">\n",
              "  <thead>\n",
              "    <tr style=\"text-align: right;\">\n",
              "      <th></th>\n",
              "      <th>time</th>\n",
              "      <th>seconds_elapsed</th>\n",
              "      <th>altitude</th>\n",
              "      <th>speedAccuracy</th>\n",
              "      <th>bearingAccuracy</th>\n",
              "      <th>latitude</th>\n",
              "      <th>altitudeAboveMeanSeaLevel</th>\n",
              "      <th>bearing</th>\n",
              "      <th>horizontalAccuracy</th>\n",
              "      <th>verticalAccuracy</th>\n",
              "      <th>longitude</th>\n",
              "      <th>speed</th>\n",
              "      <th>Type</th>\n",
              "    </tr>\n",
              "  </thead>\n",
              "  <tbody>\n",
              "    <tr>\n",
              "      <th>0</th>\n",
              "      <td>1683706093318377000</td>\n",
              "      <td>-28.847623</td>\n",
              "      <td>359.387531</td>\n",
              "      <td>-1.000000</td>\n",
              "      <td>-1.000000</td>\n",
              "      <td>49.455863</td>\n",
              "      <td>313.797531</td>\n",
              "      <td>-1.000000</td>\n",
              "      <td>11.416650</td>\n",
              "      <td>14.562453</td>\n",
              "      <td>11.126913</td>\n",
              "      <td>-1.000000</td>\n",
              "      <td>Fahrrad</td>\n",
              "    </tr>\n",
              "    <tr>\n",
              "      <th>1</th>\n",
              "      <td>1683706150999348200</td>\n",
              "      <td>28.833348</td>\n",
              "      <td>359.336569</td>\n",
              "      <td>0.723846</td>\n",
              "      <td>25.482019</td>\n",
              "      <td>49.455798</td>\n",
              "      <td>313.746569</td>\n",
              "      <td>231.174278</td>\n",
              "      <td>7.715990</td>\n",
              "      <td>8.053696</td>\n",
              "      <td>11.126582</td>\n",
              "      <td>0.503094</td>\n",
              "      <td>Fahrrad</td>\n",
              "    </tr>\n",
              "    <tr>\n",
              "      <th>2</th>\n",
              "      <td>1683706208000208400</td>\n",
              "      <td>85.834208</td>\n",
              "      <td>359.309165</td>\n",
              "      <td>1.018800</td>\n",
              "      <td>16.142837</td>\n",
              "      <td>49.455288</td>\n",
              "      <td>313.719165</td>\n",
              "      <td>232.706895</td>\n",
              "      <td>4.840367</td>\n",
              "      <td>3.224188</td>\n",
              "      <td>11.124600</td>\n",
              "      <td>3.399262</td>\n",
              "      <td>Fahrrad</td>\n",
              "    </tr>\n",
              "    <tr>\n",
              "      <th>3</th>\n",
              "      <td>1683706265000976100</td>\n",
              "      <td>142.834976</td>\n",
              "      <td>359.716832</td>\n",
              "      <td>0.974201</td>\n",
              "      <td>10.291368</td>\n",
              "      <td>49.453161</td>\n",
              "      <td>314.126832</td>\n",
              "      <td>225.542776</td>\n",
              "      <td>4.762798</td>\n",
              "      <td>3.337708</td>\n",
              "      <td>11.122296</td>\n",
              "      <td>5.012913</td>\n",
              "      <td>Fahrrad</td>\n",
              "    </tr>\n",
              "    <tr>\n",
              "      <th>4</th>\n",
              "      <td>1683706323000254500</td>\n",
              "      <td>200.834254</td>\n",
              "      <td>358.420130</td>\n",
              "      <td>1.017401</td>\n",
              "      <td>11.544745</td>\n",
              "      <td>49.451676</td>\n",
              "      <td>312.830130</td>\n",
              "      <td>234.996558</td>\n",
              "      <td>4.778603</td>\n",
              "      <td>3.315040</td>\n",
              "      <td>11.118777</td>\n",
              "      <td>4.727707</td>\n",
              "      <td>Fahrrad</td>\n",
              "    </tr>\n",
              "  </tbody>\n",
              "</table>\n",
              "</div>\n",
              "      <button class=\"colab-df-convert\" onclick=\"convertToInteractive('df-f6fd0a48-8a1e-4a07-a351-cc2ae24b7d0e')\"\n",
              "              title=\"Convert this dataframe to an interactive table.\"\n",
              "              style=\"display:none;\">\n",
              "        \n",
              "  <svg xmlns=\"http://www.w3.org/2000/svg\" height=\"24px\"viewBox=\"0 0 24 24\"\n",
              "       width=\"24px\">\n",
              "    <path d=\"M0 0h24v24H0V0z\" fill=\"none\"/>\n",
              "    <path d=\"M18.56 5.44l.94 2.06.94-2.06 2.06-.94-2.06-.94-.94-2.06-.94 2.06-2.06.94zm-11 1L8.5 8.5l.94-2.06 2.06-.94-2.06-.94L8.5 2.5l-.94 2.06-2.06.94zm10 10l.94 2.06.94-2.06 2.06-.94-2.06-.94-.94-2.06-.94 2.06-2.06.94z\"/><path d=\"M17.41 7.96l-1.37-1.37c-.4-.4-.92-.59-1.43-.59-.52 0-1.04.2-1.43.59L10.3 9.45l-7.72 7.72c-.78.78-.78 2.05 0 2.83L4 21.41c.39.39.9.59 1.41.59.51 0 1.02-.2 1.41-.59l7.78-7.78 2.81-2.81c.8-.78.8-2.07 0-2.86zM5.41 20L4 18.59l7.72-7.72 1.47 1.35L5.41 20z\"/>\n",
              "  </svg>\n",
              "      </button>\n",
              "      \n",
              "  <style>\n",
              "    .colab-df-container {\n",
              "      display:flex;\n",
              "      flex-wrap:wrap;\n",
              "      gap: 12px;\n",
              "    }\n",
              "\n",
              "    .colab-df-convert {\n",
              "      background-color: #E8F0FE;\n",
              "      border: none;\n",
              "      border-radius: 50%;\n",
              "      cursor: pointer;\n",
              "      display: none;\n",
              "      fill: #1967D2;\n",
              "      height: 32px;\n",
              "      padding: 0 0 0 0;\n",
              "      width: 32px;\n",
              "    }\n",
              "\n",
              "    .colab-df-convert:hover {\n",
              "      background-color: #E2EBFA;\n",
              "      box-shadow: 0px 1px 2px rgba(60, 64, 67, 0.3), 0px 1px 3px 1px rgba(60, 64, 67, 0.15);\n",
              "      fill: #174EA6;\n",
              "    }\n",
              "\n",
              "    [theme=dark] .colab-df-convert {\n",
              "      background-color: #3B4455;\n",
              "      fill: #D2E3FC;\n",
              "    }\n",
              "\n",
              "    [theme=dark] .colab-df-convert:hover {\n",
              "      background-color: #434B5C;\n",
              "      box-shadow: 0px 1px 3px 1px rgba(0, 0, 0, 0.15);\n",
              "      filter: drop-shadow(0px 1px 2px rgba(0, 0, 0, 0.3));\n",
              "      fill: #FFFFFF;\n",
              "    }\n",
              "  </style>\n",
              "\n",
              "      <script>\n",
              "        const buttonEl =\n",
              "          document.querySelector('#df-f6fd0a48-8a1e-4a07-a351-cc2ae24b7d0e button.colab-df-convert');\n",
              "        buttonEl.style.display =\n",
              "          google.colab.kernel.accessAllowed ? 'block' : 'none';\n",
              "\n",
              "        async function convertToInteractive(key) {\n",
              "          const element = document.querySelector('#df-f6fd0a48-8a1e-4a07-a351-cc2ae24b7d0e');\n",
              "          const dataTable =\n",
              "            await google.colab.kernel.invokeFunction('convertToInteractive',\n",
              "                                                     [key], {});\n",
              "          if (!dataTable) return;\n",
              "\n",
              "          const docLinkHtml = 'Like what you see? Visit the ' +\n",
              "            '<a target=\"_blank\" href=https://colab.research.google.com/notebooks/data_table.ipynb>data table notebook</a>'\n",
              "            + ' to learn more about interactive tables.';\n",
              "          element.innerHTML = '';\n",
              "          dataTable['output_type'] = 'display_data';\n",
              "          await google.colab.output.renderOutput(dataTable, element);\n",
              "          const docLink = document.createElement('div');\n",
              "          docLink.innerHTML = docLinkHtml;\n",
              "          element.appendChild(docLink);\n",
              "        }\n",
              "      </script>\n",
              "    </div>\n",
              "  </div>\n",
              "  "
            ]
          },
          "metadata": {},
          "execution_count": 71
        }
      ]
    },
    {
      "cell_type": "code",
      "source": [
        "location_uBahn.isnull().sum()"
      ],
      "metadata": {
        "colab": {
          "base_uri": "https://localhost:8080/"
        },
        "id": "B6p8SW4CmDz2",
        "outputId": "0b86f8ac-894d-49c6-9118-d3fece14fc57"
      },
      "id": "B6p8SW4CmDz2",
      "execution_count": 72,
      "outputs": [
        {
          "output_type": "execute_result",
          "data": {
            "text/plain": [
              "sensor                         0\n",
              "time                           0\n",
              "seconds_elapsed                0\n",
              "z                            379\n",
              "y                            379\n",
              "x                            379\n",
              "bearingAccuracy                0\n",
              "speedAccuracy                  0\n",
              "verticalAccuracy               0\n",
              "horizontalAccuracy             0\n",
              "speed                          0\n",
              "bearing                        0\n",
              "altitude                       0\n",
              "longitude                      0\n",
              "latitude                       0\n",
              "version                      379\n",
              "device name                  379\n",
              "recording time               379\n",
              "platform                     379\n",
              "appVersion                   379\n",
              "device id                    379\n",
              "sensors                      379\n",
              "sampleRateMs                 379\n",
              "qz                           379\n",
              "qy                           379\n",
              "qx                           379\n",
              "qw                           379\n",
              "roll                         379\n",
              "pitch                        379\n",
              "yaw                          379\n",
              "relativeAltitude             379\n",
              "pressure                     379\n",
              "altitudeAboveMeanSeaLevel     67\n",
              "Type                           0\n",
              "dtype: int64"
            ]
          },
          "metadata": {},
          "execution_count": 72
        }
      ]
    },
    {
      "cell_type": "code",
      "source": [
        "#Drop collumns\n",
        "location_uBahn = location_uBahn.drop(['x','y','z','version','device name','recording time','platform','appVersion','device id', 'sensors','sampleRateMs','qz','qy','qx','qw','roll','pitch','yaw','relativeAltitude','pressure'], axis=1)"
      ],
      "metadata": {
        "id": "3cuwAZrzmNa7"
      },
      "id": "3cuwAZrzmNa7",
      "execution_count": 73,
      "outputs": []
    },
    {
      "cell_type": "code",
      "source": [
        "location_uBahn.isnull().sum()"
      ],
      "metadata": {
        "colab": {
          "base_uri": "https://localhost:8080/"
        },
        "id": "1ougr_Su53Ll",
        "outputId": "b5984afb-5ec2-43ad-859a-51628e441931"
      },
      "id": "1ougr_Su53Ll",
      "execution_count": 74,
      "outputs": [
        {
          "output_type": "execute_result",
          "data": {
            "text/plain": [
              "sensor                        0\n",
              "time                          0\n",
              "seconds_elapsed               0\n",
              "bearingAccuracy               0\n",
              "speedAccuracy                 0\n",
              "verticalAccuracy              0\n",
              "horizontalAccuracy            0\n",
              "speed                         0\n",
              "bearing                       0\n",
              "altitude                      0\n",
              "longitude                     0\n",
              "latitude                      0\n",
              "altitudeAboveMeanSeaLevel    67\n",
              "Type                          0\n",
              "dtype: int64"
            ]
          },
          "metadata": {},
          "execution_count": 74
        }
      ]
    },
    {
      "cell_type": "code",
      "source": [
        "#for i in range(len(location_uBahn)):\n",
        "#  if location_uBahn['altitudeAboveMeanSeaLevel'].isnull():\n",
        "\n",
        "'''\n",
        "for i in range(len(location_uBahn)):\n",
        "  if location_uBahn.isnull():\n",
        "    print(location_uBahn(i-1))\n",
        "    print(location_uBahn(i))\n",
        "    print(location_uBahn(i+1))\n",
        "'''\n",
        "\n",
        "\n",
        "\n"
      ],
      "metadata": {
        "colab": {
          "base_uri": "https://localhost:8080/",
          "height": 52
        },
        "id": "cXe9Zz5Ha7X6",
        "outputId": "10e92519-37f1-4446-8c3e-b5979c72a03a"
      },
      "id": "cXe9Zz5Ha7X6",
      "execution_count": 80,
      "outputs": [
        {
          "output_type": "execute_result",
          "data": {
            "text/plain": [
              "'\\nfor i in range(len(location_uBahn)):\\n  if location_uBahn.isnull():\\n    print(location_uBahn(i-1))\\n    print(location_uBahn(i))\\n    print(location_uBahn(i+1))\\n'"
            ],
            "application/vnd.google.colaboratory.intrinsic+json": {
              "type": "string"
            }
          },
          "metadata": {},
          "execution_count": 80
        }
      ]
    },
    {
      "cell_type": "code",
      "source": [
        "import plotly.express as px"
      ],
      "metadata": {
        "id": "vfYw-siKkLjs"
      },
      "id": "vfYw-siKkLjs",
      "execution_count": 77,
      "outputs": []
    },
    {
      "cell_type": "markdown",
      "source": [
        "**Correlation Matrix**\n",
        "\n",
        "Its necessary to remove correlated variables to improve your model. One can find correlations using pandas “.corr()” function and can visualize the correlation matrix using plotly express.\n",
        "\n",
        "\n",
        "Lighter shades represents positive correlation, when one variable increases, the other variable tends to increase\n",
        "\n",
        "Darker shades represents negative correlation, when one variable increases, the other variable tends to decrease"
      ],
      "metadata": {
        "id": "N6Fls4b8k4ul"
      },
      "id": "N6Fls4b8k4ul"
    },
    {
      "cell_type": "code",
      "source": [
        "px.imshow(location_uBahn.corr(),title=\"Correlation Plot\")"
      ],
      "metadata": {
        "id": "n4cgFnTqkNCg",
        "colab": {
          "base_uri": "https://localhost:8080/",
          "height": 630
        },
        "outputId": "c1f3cbeb-3344-47d5-ab4a-f6934eaffc86"
      },
      "id": "n4cgFnTqkNCg",
      "execution_count": 78,
      "outputs": [
        {
          "output_type": "stream",
          "name": "stderr",
          "text": [
            "<ipython-input-78-2bb7a848ff27>:1: FutureWarning:\n",
            "\n",
            "The default value of numeric_only in DataFrame.corr is deprecated. In a future version, it will default to False. Select only valid columns or specify the value of numeric_only to silence this warning.\n",
            "\n"
          ]
        },
        {
          "output_type": "display_data",
          "data": {
            "text/html": [
              "<html>\n",
              "<head><meta charset=\"utf-8\" /></head>\n",
              "<body>\n",
              "    <div>            <script src=\"https://cdnjs.cloudflare.com/ajax/libs/mathjax/2.7.5/MathJax.js?config=TeX-AMS-MML_SVG\"></script><script type=\"text/javascript\">if (window.MathJax && window.MathJax.Hub && window.MathJax.Hub.Config) {window.MathJax.Hub.Config({SVG: {font: \"STIX-Web\"}});}</script>                <script type=\"text/javascript\">window.PlotlyConfig = {MathJaxConfig: 'local'};</script>\n",
              "        <script src=\"https://cdn.plot.ly/plotly-2.18.2.min.js\"></script>                <div id=\"4ce6418b-5a6e-40cb-92c6-c906d490009c\" class=\"plotly-graph-div\" style=\"height:525px; width:100%;\"></div>            <script type=\"text/javascript\">                                    window.PLOTLYENV=window.PLOTLYENV || {};                                    if (document.getElementById(\"4ce6418b-5a6e-40cb-92c6-c906d490009c\")) {                    Plotly.newPlot(                        \"4ce6418b-5a6e-40cb-92c6-c906d490009c\",                        [{\"coloraxis\":\"coloraxis\",\"name\":\"0\",\"x\":[\"time\",\"seconds_elapsed\",\"bearingAccuracy\",\"speedAccuracy\",\"verticalAccuracy\",\"horizontalAccuracy\",\"speed\",\"bearing\",\"altitude\",\"longitude\",\"latitude\",\"altitudeAboveMeanSeaLevel\"],\"y\":[\"time\",\"seconds_elapsed\",\"bearingAccuracy\",\"speedAccuracy\",\"verticalAccuracy\",\"horizontalAccuracy\",\"speed\",\"bearing\",\"altitude\",\"longitude\",\"latitude\",\"altitudeAboveMeanSeaLevel\"],\"z\":[[1.0,0.25717011480734076,0.14080710489233972,0.5217992455476587,-0.6898021528297255,-0.3876538564116672,0.28216242215085835,0.3336163373042175,0.26756579374048706,0.45208199570463914,-0.488513975164813,0.4227527370277729],[0.25717011480734076,1.0,0.016393883610732036,0.3168178622000281,-0.25161024171765023,-0.18871807514532382,0.3034350739882682,0.08382416854314066,0.27022774736103755,0.6804593829781427,-0.5715310037306955,0.06882747740032015],[0.14080710489233972,0.016393883610732036,1.0,0.09270911848995848,-0.1322009741949935,-0.15509717602328726,-0.23996704508665792,0.21426389826008416,0.1569147428196021,0.2001329848127405,-0.24348681779477527,0.042379695820331645],[0.5217992455476587,0.3168178622000281,0.09270911848995848,1.0,-0.44192164120198973,-0.45597662537803896,0.545196207261999,0.2911446369425468,0.6515551499937013,0.6906217228325279,-0.7488135815921249,0.5418868367219812],[-0.6898021528297255,-0.25161024171765023,-0.1322009741949935,-0.44192164120198973,1.0,0.5414881188948831,-0.26506256295292796,-0.29166705775303997,-0.17368521042313514,-0.46087715951281827,0.4844986233227828,-0.33307762523400675],[-0.3876538564116672,-0.18871807514532382,-0.15509717602328726,-0.45597662537803896,0.5414881188948831,1.0,-0.2883401347746636,-0.28724005500535943,-0.285250351370821,-0.5529200521272877,0.5569863570957971,-0.26105593488906065],[0.28216242215085835,0.3034350739882682,-0.23996704508665792,0.545196207261999,-0.26506256295292796,-0.2883401347746636,1.0,0.37441778087227506,0.3751352948668477,0.49662638927566144,-0.49040081867201174,0.24113536699383673],[0.3336163373042175,0.08382416854314066,0.21426389826008416,0.2911446369425468,-0.29166705775303997,-0.28724005500535943,0.37441778087227506,1.0,0.059078346727530436,0.11948571397416234,-0.1546726526775892,0.21603911874614726],[0.26756579374048706,0.27022774736103755,0.1569147428196021,0.6515551499937013,-0.17368521042313514,-0.285250351370821,0.3751352948668477,0.059078346727530436,1.0,0.6258148569852948,-0.642644078372753,0.9996153168802032],[0.45208199570463914,0.6804593829781427,0.2001329848127405,0.6906217228325279,-0.46087715951281827,-0.5529200521272877,0.49662638927566144,0.11948571397416234,0.6258148569852948,1.0,-0.9549558135934901,0.4034109117779781],[-0.488513975164813,-0.5715310037306955,-0.24348681779477527,-0.7488135815921249,0.4844986233227828,0.5569863570957971,-0.49040081867201174,-0.1546726526775892,-0.642644078372753,-0.9549558135934901,1.0,-0.3977069263437079],[0.4227527370277729,0.06882747740032015,0.042379695820331645,0.5418868367219812,-0.33307762523400675,-0.26105593488906065,0.24113536699383673,0.21603911874614726,0.9996153168802032,0.4034109117779781,-0.3977069263437079,1.0]],\"type\":\"heatmap\",\"xaxis\":\"x\",\"yaxis\":\"y\",\"hovertemplate\":\"x: %{x}<br>y: %{y}<br>color: %{z}<extra></extra>\"}],                        {\"template\":{\"data\":{\"histogram2dcontour\":[{\"type\":\"histogram2dcontour\",\"colorbar\":{\"outlinewidth\":0,\"ticks\":\"\"},\"colorscale\":[[0.0,\"#0d0887\"],[0.1111111111111111,\"#46039f\"],[0.2222222222222222,\"#7201a8\"],[0.3333333333333333,\"#9c179e\"],[0.4444444444444444,\"#bd3786\"],[0.5555555555555556,\"#d8576b\"],[0.6666666666666666,\"#ed7953\"],[0.7777777777777778,\"#fb9f3a\"],[0.8888888888888888,\"#fdca26\"],[1.0,\"#f0f921\"]]}],\"choropleth\":[{\"type\":\"choropleth\",\"colorbar\":{\"outlinewidth\":0,\"ticks\":\"\"}}],\"histogram2d\":[{\"type\":\"histogram2d\",\"colorbar\":{\"outlinewidth\":0,\"ticks\":\"\"},\"colorscale\":[[0.0,\"#0d0887\"],[0.1111111111111111,\"#46039f\"],[0.2222222222222222,\"#7201a8\"],[0.3333333333333333,\"#9c179e\"],[0.4444444444444444,\"#bd3786\"],[0.5555555555555556,\"#d8576b\"],[0.6666666666666666,\"#ed7953\"],[0.7777777777777778,\"#fb9f3a\"],[0.8888888888888888,\"#fdca26\"],[1.0,\"#f0f921\"]]}],\"heatmap\":[{\"type\":\"heatmap\",\"colorbar\":{\"outlinewidth\":0,\"ticks\":\"\"},\"colorscale\":[[0.0,\"#0d0887\"],[0.1111111111111111,\"#46039f\"],[0.2222222222222222,\"#7201a8\"],[0.3333333333333333,\"#9c179e\"],[0.4444444444444444,\"#bd3786\"],[0.5555555555555556,\"#d8576b\"],[0.6666666666666666,\"#ed7953\"],[0.7777777777777778,\"#fb9f3a\"],[0.8888888888888888,\"#fdca26\"],[1.0,\"#f0f921\"]]}],\"heatmapgl\":[{\"type\":\"heatmapgl\",\"colorbar\":{\"outlinewidth\":0,\"ticks\":\"\"},\"colorscale\":[[0.0,\"#0d0887\"],[0.1111111111111111,\"#46039f\"],[0.2222222222222222,\"#7201a8\"],[0.3333333333333333,\"#9c179e\"],[0.4444444444444444,\"#bd3786\"],[0.5555555555555556,\"#d8576b\"],[0.6666666666666666,\"#ed7953\"],[0.7777777777777778,\"#fb9f3a\"],[0.8888888888888888,\"#fdca26\"],[1.0,\"#f0f921\"]]}],\"contourcarpet\":[{\"type\":\"contourcarpet\",\"colorbar\":{\"outlinewidth\":0,\"ticks\":\"\"}}],\"contour\":[{\"type\":\"contour\",\"colorbar\":{\"outlinewidth\":0,\"ticks\":\"\"},\"colorscale\":[[0.0,\"#0d0887\"],[0.1111111111111111,\"#46039f\"],[0.2222222222222222,\"#7201a8\"],[0.3333333333333333,\"#9c179e\"],[0.4444444444444444,\"#bd3786\"],[0.5555555555555556,\"#d8576b\"],[0.6666666666666666,\"#ed7953\"],[0.7777777777777778,\"#fb9f3a\"],[0.8888888888888888,\"#fdca26\"],[1.0,\"#f0f921\"]]}],\"surface\":[{\"type\":\"surface\",\"colorbar\":{\"outlinewidth\":0,\"ticks\":\"\"},\"colorscale\":[[0.0,\"#0d0887\"],[0.1111111111111111,\"#46039f\"],[0.2222222222222222,\"#7201a8\"],[0.3333333333333333,\"#9c179e\"],[0.4444444444444444,\"#bd3786\"],[0.5555555555555556,\"#d8576b\"],[0.6666666666666666,\"#ed7953\"],[0.7777777777777778,\"#fb9f3a\"],[0.8888888888888888,\"#fdca26\"],[1.0,\"#f0f921\"]]}],\"mesh3d\":[{\"type\":\"mesh3d\",\"colorbar\":{\"outlinewidth\":0,\"ticks\":\"\"}}],\"scatter\":[{\"fillpattern\":{\"fillmode\":\"overlay\",\"size\":10,\"solidity\":0.2},\"type\":\"scatter\"}],\"parcoords\":[{\"type\":\"parcoords\",\"line\":{\"colorbar\":{\"outlinewidth\":0,\"ticks\":\"\"}}}],\"scatterpolargl\":[{\"type\":\"scatterpolargl\",\"marker\":{\"colorbar\":{\"outlinewidth\":0,\"ticks\":\"\"}}}],\"bar\":[{\"error_x\":{\"color\":\"#2a3f5f\"},\"error_y\":{\"color\":\"#2a3f5f\"},\"marker\":{\"line\":{\"color\":\"#E5ECF6\",\"width\":0.5},\"pattern\":{\"fillmode\":\"overlay\",\"size\":10,\"solidity\":0.2}},\"type\":\"bar\"}],\"scattergeo\":[{\"type\":\"scattergeo\",\"marker\":{\"colorbar\":{\"outlinewidth\":0,\"ticks\":\"\"}}}],\"scatterpolar\":[{\"type\":\"scatterpolar\",\"marker\":{\"colorbar\":{\"outlinewidth\":0,\"ticks\":\"\"}}}],\"histogram\":[{\"marker\":{\"pattern\":{\"fillmode\":\"overlay\",\"size\":10,\"solidity\":0.2}},\"type\":\"histogram\"}],\"scattergl\":[{\"type\":\"scattergl\",\"marker\":{\"colorbar\":{\"outlinewidth\":0,\"ticks\":\"\"}}}],\"scatter3d\":[{\"type\":\"scatter3d\",\"line\":{\"colorbar\":{\"outlinewidth\":0,\"ticks\":\"\"}},\"marker\":{\"colorbar\":{\"outlinewidth\":0,\"ticks\":\"\"}}}],\"scattermapbox\":[{\"type\":\"scattermapbox\",\"marker\":{\"colorbar\":{\"outlinewidth\":0,\"ticks\":\"\"}}}],\"scatterternary\":[{\"type\":\"scatterternary\",\"marker\":{\"colorbar\":{\"outlinewidth\":0,\"ticks\":\"\"}}}],\"scattercarpet\":[{\"type\":\"scattercarpet\",\"marker\":{\"colorbar\":{\"outlinewidth\":0,\"ticks\":\"\"}}}],\"carpet\":[{\"aaxis\":{\"endlinecolor\":\"#2a3f5f\",\"gridcolor\":\"white\",\"linecolor\":\"white\",\"minorgridcolor\":\"white\",\"startlinecolor\":\"#2a3f5f\"},\"baxis\":{\"endlinecolor\":\"#2a3f5f\",\"gridcolor\":\"white\",\"linecolor\":\"white\",\"minorgridcolor\":\"white\",\"startlinecolor\":\"#2a3f5f\"},\"type\":\"carpet\"}],\"table\":[{\"cells\":{\"fill\":{\"color\":\"#EBF0F8\"},\"line\":{\"color\":\"white\"}},\"header\":{\"fill\":{\"color\":\"#C8D4E3\"},\"line\":{\"color\":\"white\"}},\"type\":\"table\"}],\"barpolar\":[{\"marker\":{\"line\":{\"color\":\"#E5ECF6\",\"width\":0.5},\"pattern\":{\"fillmode\":\"overlay\",\"size\":10,\"solidity\":0.2}},\"type\":\"barpolar\"}],\"pie\":[{\"automargin\":true,\"type\":\"pie\"}]},\"layout\":{\"autotypenumbers\":\"strict\",\"colorway\":[\"#636efa\",\"#EF553B\",\"#00cc96\",\"#ab63fa\",\"#FFA15A\",\"#19d3f3\",\"#FF6692\",\"#B6E880\",\"#FF97FF\",\"#FECB52\"],\"font\":{\"color\":\"#2a3f5f\"},\"hovermode\":\"closest\",\"hoverlabel\":{\"align\":\"left\"},\"paper_bgcolor\":\"white\",\"plot_bgcolor\":\"#E5ECF6\",\"polar\":{\"bgcolor\":\"#E5ECF6\",\"angularaxis\":{\"gridcolor\":\"white\",\"linecolor\":\"white\",\"ticks\":\"\"},\"radialaxis\":{\"gridcolor\":\"white\",\"linecolor\":\"white\",\"ticks\":\"\"}},\"ternary\":{\"bgcolor\":\"#E5ECF6\",\"aaxis\":{\"gridcolor\":\"white\",\"linecolor\":\"white\",\"ticks\":\"\"},\"baxis\":{\"gridcolor\":\"white\",\"linecolor\":\"white\",\"ticks\":\"\"},\"caxis\":{\"gridcolor\":\"white\",\"linecolor\":\"white\",\"ticks\":\"\"}},\"coloraxis\":{\"colorbar\":{\"outlinewidth\":0,\"ticks\":\"\"}},\"colorscale\":{\"sequential\":[[0.0,\"#0d0887\"],[0.1111111111111111,\"#46039f\"],[0.2222222222222222,\"#7201a8\"],[0.3333333333333333,\"#9c179e\"],[0.4444444444444444,\"#bd3786\"],[0.5555555555555556,\"#d8576b\"],[0.6666666666666666,\"#ed7953\"],[0.7777777777777778,\"#fb9f3a\"],[0.8888888888888888,\"#fdca26\"],[1.0,\"#f0f921\"]],\"sequentialminus\":[[0.0,\"#0d0887\"],[0.1111111111111111,\"#46039f\"],[0.2222222222222222,\"#7201a8\"],[0.3333333333333333,\"#9c179e\"],[0.4444444444444444,\"#bd3786\"],[0.5555555555555556,\"#d8576b\"],[0.6666666666666666,\"#ed7953\"],[0.7777777777777778,\"#fb9f3a\"],[0.8888888888888888,\"#fdca26\"],[1.0,\"#f0f921\"]],\"diverging\":[[0,\"#8e0152\"],[0.1,\"#c51b7d\"],[0.2,\"#de77ae\"],[0.3,\"#f1b6da\"],[0.4,\"#fde0ef\"],[0.5,\"#f7f7f7\"],[0.6,\"#e6f5d0\"],[0.7,\"#b8e186\"],[0.8,\"#7fbc41\"],[0.9,\"#4d9221\"],[1,\"#276419\"]]},\"xaxis\":{\"gridcolor\":\"white\",\"linecolor\":\"white\",\"ticks\":\"\",\"title\":{\"standoff\":15},\"zerolinecolor\":\"white\",\"automargin\":true,\"zerolinewidth\":2},\"yaxis\":{\"gridcolor\":\"white\",\"linecolor\":\"white\",\"ticks\":\"\",\"title\":{\"standoff\":15},\"zerolinecolor\":\"white\",\"automargin\":true,\"zerolinewidth\":2},\"scene\":{\"xaxis\":{\"backgroundcolor\":\"#E5ECF6\",\"gridcolor\":\"white\",\"linecolor\":\"white\",\"showbackground\":true,\"ticks\":\"\",\"zerolinecolor\":\"white\",\"gridwidth\":2},\"yaxis\":{\"backgroundcolor\":\"#E5ECF6\",\"gridcolor\":\"white\",\"linecolor\":\"white\",\"showbackground\":true,\"ticks\":\"\",\"zerolinecolor\":\"white\",\"gridwidth\":2},\"zaxis\":{\"backgroundcolor\":\"#E5ECF6\",\"gridcolor\":\"white\",\"linecolor\":\"white\",\"showbackground\":true,\"ticks\":\"\",\"zerolinecolor\":\"white\",\"gridwidth\":2}},\"shapedefaults\":{\"line\":{\"color\":\"#2a3f5f\"}},\"annotationdefaults\":{\"arrowcolor\":\"#2a3f5f\",\"arrowhead\":0,\"arrowwidth\":1},\"geo\":{\"bgcolor\":\"white\",\"landcolor\":\"#E5ECF6\",\"subunitcolor\":\"white\",\"showland\":true,\"showlakes\":true,\"lakecolor\":\"white\"},\"title\":{\"x\":0.05},\"mapbox\":{\"style\":\"light\"}}},\"xaxis\":{\"anchor\":\"y\",\"domain\":[0.0,1.0],\"scaleanchor\":\"y\",\"constrain\":\"domain\"},\"yaxis\":{\"anchor\":\"x\",\"domain\":[0.0,1.0],\"autorange\":\"reversed\",\"constrain\":\"domain\"},\"coloraxis\":{\"colorscale\":[[0.0,\"#0d0887\"],[0.1111111111111111,\"#46039f\"],[0.2222222222222222,\"#7201a8\"],[0.3333333333333333,\"#9c179e\"],[0.4444444444444444,\"#bd3786\"],[0.5555555555555556,\"#d8576b\"],[0.6666666666666666,\"#ed7953\"],[0.7777777777777778,\"#fb9f3a\"],[0.8888888888888888,\"#fdca26\"],[1.0,\"#f0f921\"]]},\"title\":{\"text\":\"Correlation Plot\"}},                        {\"responsive\": true}                    ).then(function(){\n",
              "                            \n",
              "var gd = document.getElementById('4ce6418b-5a6e-40cb-92c6-c906d490009c');\n",
              "var x = new MutationObserver(function (mutations, observer) {{\n",
              "        var display = window.getComputedStyle(gd).display;\n",
              "        if (!display || display === 'none') {{\n",
              "            console.log([gd, 'removed!']);\n",
              "            Plotly.purge(gd);\n",
              "            observer.disconnect();\n",
              "        }}\n",
              "}});\n",
              "\n",
              "// Listen for the removal of the full notebook cells\n",
              "var notebookContainer = gd.closest('#notebook-container');\n",
              "if (notebookContainer) {{\n",
              "    x.observe(notebookContainer, {childList: true});\n",
              "}}\n",
              "\n",
              "// Listen for the clearing of the current output cell\n",
              "var outputEl = gd.closest('.output');\n",
              "if (outputEl) {{\n",
              "    x.observe(outputEl, {childList: true});\n",
              "}}\n",
              "\n",
              "                        })                };                            </script>        </div>\n",
              "</body>\n",
              "</html>"
            ]
          },
          "metadata": {}
        }
      ]
    },
    {
      "cell_type": "markdown",
      "source": [
        "To read: [Fundamental Techniques of Feature Engineering for Machine Learning](https://towardsdatascience.com/feature-engineering-for-machine-learning-3a5e293a5114)\n",
        "\n"
      ],
      "metadata": {
        "id": "RhcIWRD-csSn"
      },
      "id": "RhcIWRD-csSn"
    },
    {
      "cell_type": "markdown",
      "source": [
        "#NEXT STEP\n",
        "Separating labels and predictors\n",
        "\n",
        "```\n",
        "X=df.drop('location',axis=1)\n",
        "y=df['location'].values\n",
        "```\n",
        "Splitting train (75%) and test set (25%)\n",
        "\n",
        "```\n",
        "from sklearn.model_selection import train_test_split\n",
        "X_train, X_test, y_train, y_test = train_test_split(X, y, test_size=0.25, random_state=42)\n",
        "```\n",
        "Selecting categorical dataframe in train set\n",
        "```\n",
        "X_train_cat=df.select_dtypes(exclude=['number'])\n",
        "```\n",
        "Translate transport type into numerical values. For example: auto as 0, bus as 1, ubahn as 2, fahrrad as 3\n",
        "\n",
        "Applying label encoding for categorical features in train set\n",
        "```\n",
        "importing label encoder\n",
        "from sklearn.preprocessing import LabelEncoder\n",
        "labelencoder = LabelEncoder()\n",
        "X_train_cat=X_train_cat.apply(LabelEncoder().fit_transform)\n",
        "```\n",
        "Importing ColumnTransformer and OneHotEncoder\n",
        "```\n",
        "from sklearn.compose import ColumnTransformer\n",
        "from sklearn.preprocessing import OneHotEncoder\n",
        "```\n",
        "\n",
        "Separating numerical and categorical attributes in the train set\n",
        "```\n",
        "num_attribs = list (X_train_num)\n",
        "cat_attribs = list (X_train_cat)\n",
        "```\n",
        "Creating a full pipeline: numerical + categorical\n",
        "```\n",
        "full_pipeline = ColumnTransformer([(\"num\",num_pipeline,num_attribs),(\"cat\",```OneHotEncoder(handle_unknown='ignore'),cat_attribs)])\n",
        "```\n",
        "\n",
        "Fit and transform the train set using the full pipeline\n",
        "```\n",
        "X_train_prepd = full_pipeline.fit_transform(X_train)\n",
        "```"
      ],
      "metadata": {
        "id": "AZcwinH6c6Pq"
      },
      "id": "AZcwinH6c6Pq"
    },
    {
      "cell_type": "markdown",
      "source": [
        "\n",
        "To do:\n",
        "\n",
        "Location_bus,\n",
        "\n",
        "Location_fahhrad,\n",
        "\n",
        "Location_auto\n",
        "\n",
        "Imputation: Fill in values of altitudeAboveMeanSeaLevel\n",
        "\n",
        "\n"
      ],
      "metadata": {
        "id": "qATsEM-a2qAU"
      },
      "id": "qATsEM-a2qAU"
    }
  ],
  "metadata": {
    "kernelspec": {
      "display_name": "Python 3 (ipykernel)",
      "language": "python",
      "name": "python3"
    },
    "language_info": {
      "codemirror_mode": {
        "name": "ipython",
        "version": 3
      },
      "file_extension": ".py",
      "mimetype": "text/x-python",
      "name": "python",
      "nbconvert_exporter": "python",
      "pygments_lexer": "ipython3",
      "version": "3.10.9"
    },
    "colab": {
      "provenance": [],
      "include_colab_link": true
    }
  },
  "nbformat": 4,
  "nbformat_minor": 5
}